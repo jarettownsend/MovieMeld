{
 "cells": [
  {
   "cell_type": "markdown",
   "metadata": {},
   "source": [
    "# Set Up"
   ]
  },
  {
   "cell_type": "markdown",
   "metadata": {},
   "source": [
    "Ideas for features:\n",
    "- Genre\n",
    "- rating: (adult vs kid)\n",
    "- meta score: (critics rating)\n",
    "- IMDB score: (peoples rating)\n",
    "- Gross: (box office success)\n",
    "- Release year"
   ]
  },
  {
   "cell_type": "code",
   "execution_count": 103,
   "metadata": {},
   "outputs": [],
   "source": [
    "# Data comes from: https://www.kaggle.com/datasets/harshitshankhdhar/imdb-dataset-of-top-1000-movies-and-tv-shows\n",
    "import pandas as pd\n",
    "df = pd.read_csv('imdb_top_1000.csv')"
   ]
  },
  {
   "cell_type": "code",
   "execution_count": 104,
   "metadata": {},
   "outputs": [],
   "source": [
    "rating_map = {\n",
    "    'U': 'Family-Friendly',\n",
    "    'G': 'Family-Friendly',\n",
    "    'Approved': 'Family-Friendly',\n",
    "    'Passed': 'Family-Friendly',\n",
    "    'UA': 'Family-Friendly',\n",
    "    'PG': 'Family-Friendly',\n",
    "    'TV-PG': 'Family-Friendly',\n",
    "    'GP': 'Family-Friendly',\n",
    "    'PG-13': 'Adult',\n",
    "    'TV-14': 'Adult',\n",
    "    'A': 'Adult',\n",
    "    'R': 'Adult',\n",
    "    'TV-MA': 'Adult',\n",
    "    '16': 'Adult',\n",
    "    'U/A': 'Family-Friendly',\n",
    "    'Unrated': 'Unknown',\n",
    "}\n",
    "df['Normalized_Certificate'] = df['Certificate'].map(rating_map)\n",
    "df['Normalized_Certificate'] = df['Normalized_Certificate'].fillna('Unknown')"
   ]
  },
  {
   "cell_type": "code",
   "execution_count": 105,
   "metadata": {},
   "outputs": [],
   "source": [
    "unique_genres = set()\n",
    "df['Genre'] = df['Genre'].fillna('') \n",
    "for genres in df['Genre']:\n",
    "    for g in genres.split(','):\n",
    "        unique_genres.add(g.strip())\n",
    "for genre in unique_genres:\n",
    "    df[genre] = df['Genre'].apply(lambda x: genre in [g.strip() for g in x.split(',')])"
   ]
  },
  {
   "cell_type": "code",
   "execution_count": 106,
   "metadata": {},
   "outputs": [],
   "source": [
    "def map_release_year(year):\n",
    "    try:\n",
    "        year = int(year)\n",
    "    except:\n",
    "        return 'Unknown'\n",
    "    if year < 1980:\n",
    "        return 'Classic'\n",
    "    elif year < 2010:\n",
    "        return 'Modern'\n",
    "    else:\n",
    "        return 'Recent'\n",
    "\n",
    "df['Release_Category'] = df['Released_Year'].apply(map_release_year)"
   ]
  },
  {
   "cell_type": "code",
   "execution_count": null,
   "metadata": {},
   "outputs": [],
   "source": [
    "df['Runtime_int'] = df['Runtime'].str.extract('(\\d+)').astype(float)"
   ]
  },
  {
   "cell_type": "code",
   "execution_count": 108,
   "metadata": {},
   "outputs": [],
   "source": [
    "df['Normalized_Meta_Score'] = df['Meta_score'] / 10"
   ]
  },
  {
   "cell_type": "code",
   "execution_count": 110,
   "metadata": {},
   "outputs": [
    {
     "data": {
      "text/plain": [
       "Index(['Poster_Link', 'Series_Title', 'Released_Year', 'Certificate',\n",
       "       'Runtime', 'Genre', 'IMDB_Rating', 'Overview', 'Meta_score', 'Director',\n",
       "       'Star1', 'Star2', 'Star3', 'Star4', 'No_of_Votes', 'Gross',\n",
       "       'Normalized_Certificate', 'Western', 'Comedy', 'Film-Noir', 'Sport',\n",
       "       'Musical', 'Thriller', 'Sci-Fi', 'Mystery', 'Animation', 'Music',\n",
       "       'Drama', 'Action', 'Family', 'Crime', 'Romance', 'Fantasy', 'Biography',\n",
       "       'Horror', 'History', 'War', 'Adventure', 'Release_Category',\n",
       "       'Runtime_int', 'Normalized_Meta_Score'],\n",
       "      dtype='object')"
      ]
     },
     "execution_count": 110,
     "metadata": {},
     "output_type": "execute_result"
    }
   ],
   "source": [
    "df.columns"
   ]
  },
  {
   "cell_type": "code",
   "execution_count": 112,
   "metadata": {},
   "outputs": [],
   "source": [
    "final = df[['Poster_Link','Series_Title','Overview','Director','Release_Category','Runtime_int','Genre','IMDB_Rating','Normalized_Meta_Score','Normalized_Certificate']]"
   ]
  },
  {
   "cell_type": "code",
   "execution_count": 115,
   "metadata": {},
   "outputs": [
    {
     "data": {
      "text/html": [
       "<div>\n",
       "<style scoped>\n",
       "    .dataframe tbody tr th:only-of-type {\n",
       "        vertical-align: middle;\n",
       "    }\n",
       "\n",
       "    .dataframe tbody tr th {\n",
       "        vertical-align: top;\n",
       "    }\n",
       "\n",
       "    .dataframe thead th {\n",
       "        text-align: right;\n",
       "    }\n",
       "</style>\n",
       "<table border=\"1\" class=\"dataframe\">\n",
       "  <thead>\n",
       "    <tr style=\"text-align: right;\">\n",
       "      <th></th>\n",
       "      <th>Poster_Link</th>\n",
       "      <th>Series_Title</th>\n",
       "      <th>Overview</th>\n",
       "      <th>Director</th>\n",
       "      <th>Release_Category</th>\n",
       "      <th>Runtime_int</th>\n",
       "      <th>Genre</th>\n",
       "      <th>IMDB_Rating</th>\n",
       "      <th>Normalized_Meta_Score</th>\n",
       "      <th>Normalized_Certificate</th>\n",
       "    </tr>\n",
       "  </thead>\n",
       "  <tbody>\n",
       "    <tr>\n",
       "      <th>0</th>\n",
       "      <td>https://m.media-amazon.com/images/M/MV5BMDFkYT...</td>\n",
       "      <td>The Shawshank Redemption</td>\n",
       "      <td>Two imprisoned men bond over a number of years...</td>\n",
       "      <td>Frank Darabont</td>\n",
       "      <td>Modern</td>\n",
       "      <td>142.0</td>\n",
       "      <td>Drama</td>\n",
       "      <td>9.3</td>\n",
       "      <td>8.0</td>\n",
       "      <td>Adult</td>\n",
       "    </tr>\n",
       "    <tr>\n",
       "      <th>1</th>\n",
       "      <td>https://m.media-amazon.com/images/M/MV5BM2MyNj...</td>\n",
       "      <td>The Godfather</td>\n",
       "      <td>An organized crime dynasty's aging patriarch t...</td>\n",
       "      <td>Francis Ford Coppola</td>\n",
       "      <td>Classic</td>\n",
       "      <td>175.0</td>\n",
       "      <td>Crime, Drama</td>\n",
       "      <td>9.2</td>\n",
       "      <td>10.0</td>\n",
       "      <td>Adult</td>\n",
       "    </tr>\n",
       "  </tbody>\n",
       "</table>\n",
       "</div>"
      ],
      "text/plain": [
       "                                         Poster_Link  \\\n",
       "0  https://m.media-amazon.com/images/M/MV5BMDFkYT...   \n",
       "1  https://m.media-amazon.com/images/M/MV5BM2MyNj...   \n",
       "\n",
       "               Series_Title  \\\n",
       "0  The Shawshank Redemption   \n",
       "1             The Godfather   \n",
       "\n",
       "                                            Overview              Director  \\\n",
       "0  Two imprisoned men bond over a number of years...        Frank Darabont   \n",
       "1  An organized crime dynasty's aging patriarch t...  Francis Ford Coppola   \n",
       "\n",
       "  Release_Category  Runtime_int         Genre  IMDB_Rating  \\\n",
       "0           Modern        142.0         Drama          9.3   \n",
       "1          Classic        175.0  Crime, Drama          9.2   \n",
       "\n",
       "   Normalized_Meta_Score Normalized_Certificate  \n",
       "0                    8.0                  Adult  \n",
       "1                   10.0                  Adult  "
      ]
     },
     "execution_count": 115,
     "metadata": {},
     "output_type": "execute_result"
    }
   ],
   "source": [
    "final.head(2)"
   ]
  },
  {
   "cell_type": "code",
   "execution_count": 118,
   "metadata": {},
   "outputs": [],
   "source": [
    "def rank_movies(df, inputs_1, inputs_2):\n",
    "    \"\"\"\n",
    "    Rank movies based on content rating and genre preferences from two users.\n",
    "    \n",
    "    df: DataFrame of movies.\n",
    "    inputs_1: Dictionary with user 1's preferences.\n",
    "    inputs_2: Dictionary with user 2's preferences. \n",
    "    Example:\n",
    "        {'content_rating': 'Adult', 'genre1':'Comedy', 'genre2':'Drama' 'genre3':'Adventure'}\n",
    "    \n",
    "    Returns: Best movie based on inputs from both users.\n",
    "    \"\"\"\n",
    "    df['score'] = 0\n",
    "\n",
    "    if inputs_1['content_rating'] == inputs_2['content_rating']:\n",
    "        df = df[df['Normalized_Certificate'] == inputs_1['content_rating']]\n",
    "    else:\n",
    "        pass\n",
    "\n",
    "    df.loc[df['Genre'].str.contains(inputs_1['genre1'], case=False, na=False), 'score'] += 3\n",
    "    df.loc[df['Genre'].str.contains(inputs_2['genre1'], case=False, na=False), 'score'] += 3\n",
    "\n",
    "    return df\n",
    "\n"
   ]
  },
  {
   "cell_type": "code",
   "execution_count": 116,
   "metadata": {},
   "outputs": [],
   "source": [
    "inputs_1 = {\n",
    "    'content_rating': 'Adult',\n",
    "    'genre1': 'Comedy',\n",
    "    'genre2': 'Drama',\n",
    "    'genre3': 'Adventure'\n",
    "}\n",
    "\n",
    "inputs_2 = {\n",
    "    'content_rating': 'Adult',\n",
    "    'genre1': 'Drama',\n",
    "    'genre2': 'Thriller',\n",
    "    'genre3': 'Action'\n",
    "}"
   ]
  },
  {
   "cell_type": "code",
   "execution_count": null,
   "metadata": {},
   "outputs": [],
   "source": [
    "ranked_df = rank_movies(final, inputs_1, inputs_2)"
   ]
  },
  {
   "cell_type": "code",
   "execution_count": null,
   "metadata": {},
   "outputs": [],
   "source": []
  }
 ],
 "metadata": {
  "kernelspec": {
   "display_name": ".venv",
   "language": "python",
   "name": "python3"
  },
  "language_info": {
   "codemirror_mode": {
    "name": "ipython",
    "version": 3
   },
   "file_extension": ".py",
   "mimetype": "text/x-python",
   "name": "python",
   "nbconvert_exporter": "python",
   "pygments_lexer": "ipython3",
   "version": "3.12.5"
  }
 },
 "nbformat": 4,
 "nbformat_minor": 2
}
